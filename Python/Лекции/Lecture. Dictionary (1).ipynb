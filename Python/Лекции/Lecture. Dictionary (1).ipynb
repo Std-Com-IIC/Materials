{
 "cells": [
  {
   "cell_type": "markdown",
   "id": "0d688598",
   "metadata": {},
   "source": [
    "# Словари (Dictionaries, изменяемый  тип данных из пар \"ключ-значение\")\n"
   ]
  },
  {
   "cell_type": "markdown",
   "id": "608a78c2",
   "metadata": {},
   "source": [
    "# Создание"
   ]
  },
  {
   "cell_type": "markdown",
   "id": "e96daa4d",
   "metadata": {},
   "source": [
    "1. с помощью функции dict()"
   ]
  },
  {
   "cell_type": "code",
   "execution_count": null,
   "id": "bcd10bec",
   "metadata": {},
   "outputs": [],
   "source": [
    "d = dict()\n",
    "print(d)"
   ]
  },
  {
   "cell_type": "code",
   "execution_count": null,
   "id": "dbb9f3d5",
   "metadata": {},
   "outputs": [],
   "source": [
    "d = dict(a = 1, b = 2, c = 3)\n",
    "print(d)"
   ]
  },
  {
   "cell_type": "code",
   "execution_count": null,
   "id": "5f5205aa",
   "metadata": {},
   "outputs": [],
   "source": [
    "d = dict([(\"a\", 1), (\"b\", 2), (\"c\", 3)])\n",
    "print(d)"
   ]
  },
  {
   "cell_type": "code",
   "execution_count": null,
   "id": "2cbf63c3",
   "metadata": {},
   "outputs": [],
   "source": [
    "keys = [1, 2, 3]\n",
    "values = [\"a\", \"b\", \"c\"]\n",
    "d = dict(zip(keys, values))\n",
    "print(d)"
   ]
  },
  {
   "cell_type": "markdown",
   "id": "eb20c8ff",
   "metadata": {},
   "source": [
    "2. с помощью оператора присваивания\n"
   ]
  },
  {
   "cell_type": "code",
   "execution_count": null,
   "id": "7de9c625",
   "metadata": {},
   "outputs": [],
   "source": [
    "d = {}\n",
    "print(d)"
   ]
  },
  {
   "cell_type": "code",
   "execution_count": null,
   "id": "f92913f5",
   "metadata": {},
   "outputs": [],
   "source": [
    "d = {\"a\": 1, \"b\": 2, \"c\": 3}\n",
    "print(d)"
   ]
  },
  {
   "cell_type": "markdown",
   "id": "f02dccdb",
   "metadata": {},
   "source": [
    "3. с помощью функции fromkeys()\n",
    "\n"
   ]
  },
  {
   "cell_type": "code",
   "execution_count": null,
   "id": "6ae97d84",
   "metadata": {},
   "outputs": [],
   "source": [
    "keys = [1, 2, 3]\n",
    "d = dict.fromkeys(keys)\n",
    "print(d)\n"
   ]
  },
  {
   "cell_type": "code",
   "execution_count": null,
   "id": "cb45d900",
   "metadata": {},
   "outputs": [],
   "source": [
    "d = dict.fromkeys(keys, 46)\n",
    "print(d)"
   ]
  },
  {
   "cell_type": "markdown",
   "id": "5c8fcb66",
   "metadata": {},
   "source": [
    "4. с помощью генератора словарей"
   ]
  },
  {
   "cell_type": "code",
   "execution_count": null,
   "id": "0b393856",
   "metadata": {},
   "outputs": [],
   "source": [
    "d = {str(i): (i/2)**3 for i in range(4)}\n",
    "print(d)"
   ]
  },
  {
   "cell_type": "markdown",
   "id": "4c7bfc4f",
   "metadata": {},
   "source": [
    "# Операции со словарями"
   ]
  },
  {
   "cell_type": "markdown",
   "id": "37d7c2ac",
   "metadata": {},
   "source": [
    "добавление элементов\n"
   ]
  },
  {
   "cell_type": "code",
   "execution_count": null,
   "id": "32450e8e",
   "metadata": {},
   "outputs": [],
   "source": [
    "d = {\"a\": 1, \"b\": 2, \"c\": 3}\n",
    "print(d)\n",
    "\n",
    "d[\"d\"] = 4 \t# добавится пара ключ: значение \"d\":4\n",
    "print(d, id(d))\n"
   ]
  },
  {
   "cell_type": "code",
   "execution_count": 4,
   "id": "ffad099a",
   "metadata": {},
   "outputs": [
    {
     "name": "stdout",
     "output_type": "stream",
     "text": [
      "{'a': 7, 'b': 2, 'c': 3} 2137549886336\n"
     ]
    }
   ],
   "source": [
    "d = {\"a\": 1, \"b\": 2, \"c\": 3}\n",
    "\n",
    "d[\"a\"] = 7\n",
    "print(d, id(d))"
   ]
  },
  {
   "cell_type": "markdown",
   "id": "7de0024f",
   "metadata": {},
   "source": [
    "# Методы"
   ]
  },
  {
   "cell_type": "markdown",
   "id": "85fbebec",
   "metadata": {},
   "source": [
    "очистка"
   ]
  },
  {
   "cell_type": "code",
   "execution_count": null,
   "id": "dbfa0e40",
   "metadata": {},
   "outputs": [],
   "source": [
    "d.clear()\n",
    "print(d)"
   ]
  },
  {
   "cell_type": "markdown",
   "id": "2bc3d818",
   "metadata": {},
   "source": [
    "копирование"
   ]
  },
  {
   "cell_type": "code",
   "execution_count": 5,
   "id": "f10274fd",
   "metadata": {},
   "outputs": [
    {
     "name": "stdout",
     "output_type": "stream",
     "text": [
      "{'a': 7, 'b': 2, 'c': 3} 2137549894912\n",
      "{'a': 1, 'b': 2, 'c': 3} 2137549895168\n"
     ]
    }
   ],
   "source": [
    "d1 = {\"a\": 1, \"b\": 2, \"c\": 3}\n",
    "d2 = d1.copy()\n",
    "\n",
    "d1[\"a\"] = 7\n",
    "\n",
    "print(d1, id(d1))\n",
    "print(d2, id(d2))"
   ]
  },
  {
   "cell_type": "markdown",
   "id": "fe11b29c",
   "metadata": {},
   "source": [
    "Поиск ключей и значений"
   ]
  },
  {
   "cell_type": "code",
   "execution_count": 28,
   "id": "0eeb818b",
   "metadata": {},
   "outputs": [
    {
     "name": "stdout",
     "output_type": "stream",
     "text": [
      "dict_keys(['a', 'b', 'c']) <class 'dict_keys'>\n"
     ]
    }
   ],
   "source": [
    "d = {\"a\": 1, \"b\": 2, \"c\": 3}\n",
    "print(d.keys(), type(d.keys()))"
   ]
  },
  {
   "cell_type": "code",
   "execution_count": 8,
   "id": "47a04f28",
   "metadata": {},
   "outputs": [
    {
     "name": "stdout",
     "output_type": "stream",
     "text": [
      "a\n",
      "b\n",
      "c\n"
     ]
    }
   ],
   "source": [
    "for i in d.keys():\n",
    "    print(i)"
   ]
  },
  {
   "cell_type": "code",
   "execution_count": 9,
   "id": "48fe7556",
   "metadata": {},
   "outputs": [
    {
     "name": "stdout",
     "output_type": "stream",
     "text": [
      "dict_values([1, 2, 3])\n"
     ]
    }
   ],
   "source": [
    "d = {\"a\": 1, \"b\": 2, \"c\": 3}\n",
    "print(d.values())"
   ]
  },
  {
   "cell_type": "code",
   "execution_count": 10,
   "id": "0da325b9",
   "metadata": {},
   "outputs": [
    {
     "name": "stdout",
     "output_type": "stream",
     "text": [
      "1\n",
      "2\n",
      "3\n"
     ]
    }
   ],
   "source": [
    "for i in d.values():\n",
    "    print(i)"
   ]
  },
  {
   "cell_type": "code",
   "execution_count": 11,
   "id": "696333c8",
   "metadata": {},
   "outputs": [
    {
     "name": "stdout",
     "output_type": "stream",
     "text": [
      "('a', 1)\n",
      "('b', 2)\n",
      "('c', 3)\n"
     ]
    }
   ],
   "source": [
    "for i in d.items():\n",
    "    print(i)"
   ]
  },
  {
   "cell_type": "code",
   "execution_count": 12,
   "id": "da1bebdf",
   "metadata": {},
   "outputs": [
    {
     "name": "stdout",
     "output_type": "stream",
     "text": [
      "dict_items([('a', 1), ('b', 2), ('c', 3)])\n"
     ]
    }
   ],
   "source": [
    "print(d.items())"
   ]
  },
  {
   "cell_type": "markdown",
   "id": "d0489ba4",
   "metadata": {},
   "source": [
    "Получение значения по ключу через функцию get()"
   ]
  },
  {
   "cell_type": "code",
   "execution_count": 13,
   "id": "ee4a997e",
   "metadata": {},
   "outputs": [
    {
     "name": "stdout",
     "output_type": "stream",
     "text": [
      "1\n"
     ]
    }
   ],
   "source": [
    "d = {\"a\": 1, \"b\": 2, \"c\": 3}\n",
    "print(d.get(\"a\"))"
   ]
  },
  {
   "cell_type": "code",
   "execution_count": 14,
   "id": "2f7ab198",
   "metadata": {},
   "outputs": [
    {
     "name": "stdout",
     "output_type": "stream",
     "text": [
      "None\n"
     ]
    }
   ],
   "source": [
    "print(d.get(\"d\"))"
   ]
  },
  {
   "cell_type": "code",
   "execution_count": 15,
   "id": "ff652b13",
   "metadata": {},
   "outputs": [
    {
     "ename": "KeyError",
     "evalue": "'d'",
     "output_type": "error",
     "traceback": [
      "\u001b[1;31m---------------------------------------------------------------------------\u001b[0m",
      "\u001b[1;31mKeyError\u001b[0m                                  Traceback (most recent call last)",
      "\u001b[1;32m~\\AppData\\Local\\Temp/ipykernel_808/2574004220.py\u001b[0m in \u001b[0;36m<module>\u001b[1;34m\u001b[0m\n\u001b[1;32m----> 1\u001b[1;33m \u001b[0mprint\u001b[0m\u001b[1;33m(\u001b[0m\u001b[0md\u001b[0m\u001b[1;33m[\u001b[0m\u001b[1;34m\"d\"\u001b[0m\u001b[1;33m]\u001b[0m\u001b[1;33m)\u001b[0m\u001b[1;33m\u001b[0m\u001b[1;33m\u001b[0m\u001b[0m\n\u001b[0m",
      "\u001b[1;31mKeyError\u001b[0m: 'd'"
     ]
    }
   ],
   "source": [
    "print(d[\"d\"])"
   ]
  },
  {
   "cell_type": "markdown",
   "id": "9e12f40f",
   "metadata": {},
   "source": [
    "Извлечение значения по ключу pop({ключ}):  в словаре данная пара будет удалена, будет возвращено значение, которое хранилось по данному ключу"
   ]
  },
  {
   "cell_type": "code",
   "execution_count": 16,
   "id": "47ca84c3",
   "metadata": {},
   "outputs": [
    {
     "name": "stdout",
     "output_type": "stream",
     "text": [
      "{'a': 1, 'b': 2, 'c': 3}\n",
      "1\n",
      "{'b': 2, 'c': 3}\n"
     ]
    }
   ],
   "source": [
    "d = {\"a\": 1, \"b\": 2, \"c\": 3}\n",
    "print(d)\n",
    "print(d.pop(\"a\"))\n",
    "print(d)"
   ]
  },
  {
   "cell_type": "code",
   "execution_count": 17,
   "id": "30ce4a61",
   "metadata": {},
   "outputs": [
    {
     "name": "stdout",
     "output_type": "stream",
     "text": [
      "10\n",
      "{'b': 2, 'c': 3}\n"
     ]
    }
   ],
   "source": [
    "print(d.pop(\"a\", 10))\n",
    "print(d)"
   ]
  },
  {
   "cell_type": "markdown",
   "id": "2c0f657f",
   "metadata": {},
   "source": [
    "**setdeafault(key, default=None)** извлекает значение по указанному ключу, если он существует. Если ключа нет, функция вставляет ключ с указанным значением по умолчанию и возвращает это значение"
   ]
  },
  {
   "cell_type": "markdown",
   "id": "ad05248d",
   "metadata": {},
   "source": [
    "Обновление словаря **update()**"
   ]
  },
  {
   "cell_type": "code",
   "execution_count": 29,
   "id": "a7e0c66e",
   "metadata": {},
   "outputs": [
    {
     "name": "stdout",
     "output_type": "stream",
     "text": [
      "{'a': 1, 'b': 2, 'c': 3, 'd': 4, 'e': 5, 'f': 6}\n"
     ]
    }
   ],
   "source": [
    "d1 = {\"a\": 1, \"b\": 2, \"c\": 3}\n",
    "d2 = {\"d\": 4, \"e\": 5, \"f\": 6}\n",
    "d1.update(d2)\n",
    "print(d1)"
   ]
  },
  {
   "cell_type": "code",
   "execution_count": 32,
   "id": "3c6adda3",
   "metadata": {},
   "outputs": [
    {
     "name": "stdout",
     "output_type": "stream",
     "text": [
      "{'a': 1, 'b': 2, 'c': 3, 'd': 7, 'e': 5, 'f': 6, 'g': 10}\n"
     ]
    }
   ],
   "source": [
    "d3 = {\"d\": 7, \"g\": 10}\n",
    "d1.update(d3)\n",
    "print(d1)"
   ]
  },
  {
   "cell_type": "markdown",
   "id": "2a2fde09",
   "metadata": {},
   "source": [
    "**Задача1 на объединение словарей**"
   ]
  },
  {
   "cell_type": "code",
   "execution_count": 21,
   "id": "e5dc1369",
   "metadata": {},
   "outputs": [],
   "source": [
    "dict1 = {'яблоки': 100, 'бананы': 333, 'груши': 200,\n",
    "         'апельсины': 300, 'ананасы': 45, 'лимоны': 98,\n",
    "         'сливы': 76, 'манго': 34, 'виноград': 90, 'лаймы': 230}"
   ]
  },
  {
   "cell_type": "code",
   "execution_count": 22,
   "id": "8464b9aa",
   "metadata": {},
   "outputs": [],
   "source": [
    "dict2 = {'яблоки': 300, 'груши': 200, 'бананы': 400,\n",
    "         'малина': 777, 'ананасы': 12, 'лаймы': 123, 'черника': 111, 'арбузы': 666}"
   ]
  },
  {
   "cell_type": "code",
   "execution_count": 26,
   "id": "01408ef9",
   "metadata": {},
   "outputs": [],
   "source": [
    "my_dict = {key: dict1.get(key, 0)+dict2.get(key, 0) for key in dict1.keys() | dict2.keys()}"
   ]
  },
  {
   "cell_type": "code",
   "execution_count": 27,
   "id": "43b23c1c",
   "metadata": {},
   "outputs": [
    {
     "data": {
      "text/plain": [
       "{'ананасы': 57,\n",
       " 'черника': 111,\n",
       " 'бананы': 733,\n",
       " 'апельсины': 300,\n",
       " 'лаймы': 353,\n",
       " 'груши': 400,\n",
       " 'манго': 34,\n",
       " 'арбузы': 666,\n",
       " 'лимоны': 98,\n",
       " 'виноград': 90,\n",
       " 'яблоки': 400,\n",
       " 'малина': 777,\n",
       " 'сливы': 76}"
      ]
     },
     "execution_count": 27,
     "metadata": {},
     "output_type": "execute_result"
    }
   ],
   "source": [
    "my_dict"
   ]
  },
  {
   "cell_type": "markdown",
   "id": "5e0c3942",
   "metadata": {},
   "source": [
    "**Задача2 на объединение данных повторяющихся ключей**"
   ]
  },
  {
   "cell_type": "code",
   "execution_count": null,
   "id": "89fe3282",
   "metadata": {},
   "outputs": [],
   "source": []
  }
 ],
 "metadata": {
  "celltoolbar": "Необработанный формат ячейки",
  "kernelspec": {
   "display_name": "Python 3 (ipykernel)",
   "language": "python",
   "name": "python3"
  },
  "language_info": {
   "codemirror_mode": {
    "name": "ipython",
    "version": 3
   },
   "file_extension": ".py",
   "mimetype": "text/x-python",
   "name": "python",
   "nbconvert_exporter": "python",
   "pygments_lexer": "ipython3",
   "version": "3.9.7"
  }
 },
 "nbformat": 4,
 "nbformat_minor": 5
}
