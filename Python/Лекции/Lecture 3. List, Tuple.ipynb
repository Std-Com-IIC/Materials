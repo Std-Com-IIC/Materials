{
 "cells": [
  {
   "cell_type": "markdown",
   "id": "194e8208",
   "metadata": {},
   "source": [
    "# Лекция 3. Типы данных в Python"
   ]
  },
  {
   "cell_type": "markdown",
   "id": "f43045eb",
   "metadata": {},
   "source": [
    "## Список (List) \n",
    "Изменяемый, упорядоченный тип данных"
   ]
  },
  {
   "cell_type": "markdown",
   "id": "42bbbc56",
   "metadata": {},
   "source": [
    "### Создание списка"
   ]
  },
  {
   "cell_type": "markdown",
   "id": "58bab922",
   "metadata": {},
   "source": [
    "С помощью функции list()\n",
    "\n"
   ]
  },
  {
   "cell_type": "code",
   "execution_count": null,
   "id": "74eb70d5",
   "metadata": {},
   "outputs": [],
   "source": [
    "a = list() # пустой список\n",
    "\n",
    "print(a)"
   ]
  },
  {
   "cell_type": "code",
   "execution_count": 1,
   "id": "7fb56af0",
   "metadata": {},
   "outputs": [
    {
     "name": "stdout",
     "output_type": "stream",
     "text": [
      "[3, 4, 5, 6, 7, 8, 9]\n"
     ]
    }
   ],
   "source": [
    "a = list(range(3, 10))   # передаем функции list генератор range\n",
    "\n",
    "print(a)"
   ]
  },
  {
   "cell_type": "code",
   "execution_count": null,
   "id": "a80c8025",
   "metadata": {},
   "outputs": [],
   "source": [
    "a = list('python')   # передаем функции list другой итерируемый объект\n",
    "\n",
    "print(a)"
   ]
  },
  {
   "cell_type": "code",
   "execution_count": null,
   "id": "4471f1bb",
   "metadata": {},
   "outputs": [],
   "source": [
    "a = list((1, -2.8, \"a\", True))\n",
    "\n",
    "print(a)"
   ]
  },
  {
   "cell_type": "markdown",
   "id": "08209b8a",
   "metadata": {},
   "source": [
    "С помощью присваивания"
   ]
  },
  {
   "cell_type": "code",
   "execution_count": null,
   "id": "3da89bcc",
   "metadata": {},
   "outputs": [],
   "source": [
    "a = []   # пустой список\n",
    "print(a)"
   ]
  },
  {
   "cell_type": "code",
   "execution_count": null,
   "id": "0ad5ff24",
   "metadata": {},
   "outputs": [],
   "source": [
    "a = [\"a\", 1, -5.6, 'va']\n",
    "\n",
    "print(a, type(a))"
   ]
  },
  {
   "cell_type": "markdown",
   "id": "b4532a1c",
   "metadata": {},
   "source": [
    "С помощью генератора списков"
   ]
  },
  {
   "cell_type": "code",
   "execution_count": null,
   "id": "1931c7f1",
   "metadata": {},
   "outputs": [],
   "source": [
    "a = [i for i in range(3, 10, 3)]\n",
    "\n",
    "print(a)"
   ]
  },
  {
   "cell_type": "code",
   "execution_count": null,
   "id": "d8ddbee3",
   "metadata": {},
   "outputs": [],
   "source": [
    "a = [1, 3, 5, 7]\n",
    "\n",
    "b = [i**2 for i in a]\n",
    "\n",
    "print(b)"
   ]
  },
  {
   "cell_type": "code",
   "execution_count": null,
   "id": "98650643",
   "metadata": {},
   "outputs": [],
   "source": [
    "a = \"23a$5b%6c!d\"\n",
    "list1 = [i for i in a]\n",
    "\n",
    "list2 = [i for i in a if i.isalpha()]\n",
    "\n",
    "print(list1)\n",
    "print(list2)"
   ]
  },
  {
   "cell_type": "markdown",
   "id": "8f24ae0d",
   "metadata": {},
   "source": [
    "## Обращение к элементам"
   ]
  },
  {
   "cell_type": "markdown",
   "id": "ed1c7885",
   "metadata": {},
   "source": [
    "**Через индексацию**"
   ]
  },
  {
   "cell_type": "code",
   "execution_count": null,
   "id": "56200d48",
   "metadata": {},
   "outputs": [],
   "source": [
    "lst = [1, 3, 5, 7, 9, 11]   # индексация начинается с нулевого элемента\n",
    "print(lst[0])"
   ]
  },
  {
   "cell_type": "code",
   "execution_count": null,
   "id": "5686f88c",
   "metadata": {},
   "outputs": [],
   "source": [
    "a = lst[len(lst)-3]   # lst[len(lst)-3] = lst[3] = 7\n",
    "print(a)"
   ]
  },
  {
   "cell_type": "code",
   "execution_count": null,
   "id": "e835b950",
   "metadata": {},
   "outputs": [],
   "source": [
    "print(lst[-1])     # последний элемент"
   ]
  },
  {
   "cell_type": "code",
   "execution_count": null,
   "id": "0a0df721",
   "metadata": {},
   "outputs": [],
   "source": [
    "print(lst[-len(lst)])   # первый элемент"
   ]
  },
  {
   "cell_type": "markdown",
   "id": "28aed124",
   "metadata": {},
   "source": [
    "**Через срезы**\n",
    "\n",
    "**lst[start:stop:step]**\n",
    "\n",
    "**step** может отсутствовать/может быть отрицательным\n",
    "\n",
    "**stop** не попадает\n",
    "\n",
    "**lst[:]** – обращение ко всему списку\n",
    "\n",
    "**lst[::-1]** – конвертация список\n"
   ]
  },
  {
   "cell_type": "code",
   "execution_count": null,
   "id": "dc7f3f97",
   "metadata": {},
   "outputs": [],
   "source": [
    "list = [1, 2, 3, 5, 7, 11, 13, 17]\n",
    "\n",
    "print(list[1:3])"
   ]
  },
  {
   "cell_type": "code",
   "execution_count": null,
   "id": "892ed945",
   "metadata": {},
   "outputs": [],
   "source": [
    "print(list[1:6:2])"
   ]
  },
  {
   "cell_type": "code",
   "execution_count": null,
   "id": "3f0a6830",
   "metadata": {},
   "outputs": [],
   "source": [
    "print(list[1:6:-2])"
   ]
  },
  {
   "cell_type": "markdown",
   "id": "00549b05",
   "metadata": {},
   "source": [
    "**Обращение к элементу списка, вложенному в список**"
   ]
  },
  {
   "cell_type": "code",
   "execution_count": null,
   "id": "77744743",
   "metadata": {},
   "outputs": [],
   "source": [
    "list = [1, \"t\", [2, 4, 10], -5.8]\n",
    "\n",
    "print(list[2][2])"
   ]
  },
  {
   "cell_type": "markdown",
   "id": "5eb575a9",
   "metadata": {},
   "source": [
    "**Через срезы можно изменять список**"
   ]
  },
  {
   "cell_type": "code",
   "execution_count": null,
   "id": "56c50544",
   "metadata": {},
   "outputs": [],
   "source": [
    "lst = [i for i in range(0, 50, 5)]\n",
    "\n",
    "print(lst)"
   ]
  },
  {
   "cell_type": "code",
   "execution_count": null,
   "id": "ed043fa8",
   "metadata": {},
   "outputs": [],
   "source": [
    "print(lst[:8:2])\n",
    "\n",
    "lst[:8:2] = [91, 92, 93, 94]\n",
    "\n",
    "print(lst)"
   ]
  },
  {
   "cell_type": "markdown",
   "id": "73b12240",
   "metadata": {},
   "source": [
    "**Через срезы можно удалить элементы списка**"
   ]
  },
  {
   "cell_type": "code",
   "execution_count": null,
   "id": "d8698c4b",
   "metadata": {},
   "outputs": [],
   "source": [
    "del(lst[2:6])\n",
    "\n",
    "print(lst)"
   ]
  },
  {
   "cell_type": "markdown",
   "id": "1762b393",
   "metadata": {},
   "source": [
    "## Методы списка"
   ]
  },
  {
   "cell_type": "markdown",
   "id": "8d69f8f3",
   "metadata": {},
   "source": [
    "**append(x)** – добавление нового элемента **x** в конец списка"
   ]
  },
  {
   "cell_type": "code",
   "execution_count": 14,
   "id": "467884d8",
   "metadata": {},
   "outputs": [
    {
     "name": "stdout",
     "output_type": "stream",
     "text": [
      "[0, 1, 2, 3, 4] 2758386864832\n",
      "[0, 1, 2, 3, 4, 5] 2758386864832\n"
     ]
    }
   ],
   "source": [
    "lst = [i for i in range(5)]\n",
    "print(lst, id(lst))\n",
    "\n",
    "lst.append(5)\n",
    "print(lst, id(lst))"
   ]
  },
  {
   "cell_type": "markdown",
   "id": "afa0a6f1",
   "metadata": {},
   "source": [
    "**insert(x, a)** - вставка элемента **a** в позицию **x**"
   ]
  },
  {
   "cell_type": "code",
   "execution_count": 13,
   "id": "f4eb3618",
   "metadata": {},
   "outputs": [
    {
     "name": "stdout",
     "output_type": "stream",
     "text": [
      "[0, 1, 2, 3, 4] 2758387108288\n",
      "[0, 1, 2, 'hello', 3, 4] 2758387108288\n"
     ]
    }
   ],
   "source": [
    "lst = [i for i in range(5)]\n",
    "print(lst, id(lst))\n",
    "\n",
    "lst.insert(3, \"hello\")\n",
    "print(lst, id(lst))"
   ]
  },
  {
   "cell_type": "markdown",
   "id": "5b023d86",
   "metadata": {},
   "source": [
    "**clear()** – очистка списка"
   ]
  },
  {
   "cell_type": "code",
   "execution_count": null,
   "id": "18ee9c9a",
   "metadata": {},
   "outputs": [],
   "source": [
    "lst = [i for i in range(5)]\n",
    "print(lst, id(lst))\n",
    "\n",
    "lst.clear()\n",
    "print(lst, id(lst))"
   ]
  },
  {
   "cell_type": "markdown",
   "id": "b1b8ef27",
   "metadata": {},
   "source": [
    "**copy()** – создание поверхностной копии списка"
   ]
  },
  {
   "cell_type": "code",
   "execution_count": null,
   "id": "97c8273f",
   "metadata": {},
   "outputs": [],
   "source": [
    "lst1 = [\"a\", 5, -5.8, [1, 2]]\n",
    "\n",
    "lst2 = lst1.copy()\n",
    "\n",
    "print(lst1, id(lst))\n",
    "\n",
    "print(lst2, id(lst))"
   ]
  },
  {
   "cell_type": "markdown",
   "id": "5adabe82",
   "metadata": {},
   "source": [
    "**count(x)** – позволяет посчитать количество элементов с заданным значением **x** "
   ]
  },
  {
   "cell_type": "code",
   "execution_count": null,
   "id": "850f9dbc",
   "metadata": {},
   "outputs": [],
   "source": [
    "lst = [1, 2, 2, 3, 8, 1, 9, 1]\n",
    "res = lst.count(1)\n",
    "\n",
    "print(res)"
   ]
  },
  {
   "cell_type": "markdown",
   "id": "44f8f9c0",
   "metadata": {},
   "source": [
    "**extend(list)** – позволяет к одному списку добавить элементы второго списка list"
   ]
  },
  {
   "cell_type": "code",
   "execution_count": 4,
   "id": "1c5fffbc",
   "metadata": {},
   "outputs": [
    {
     "name": "stdout",
     "output_type": "stream",
     "text": [
      "[5, 6] 2758386841024\n",
      "[0, 1, 2, 3, 4, 5, 6, 7, 8, 9] 2758386824576\n",
      "[5, 6, 0, 1, 2, 3, 4, 5, 6, 7, 8, 9] 2758386841024\n"
     ]
    }
   ],
   "source": [
    "lst = list(range(5, 7))\n",
    "print(lst, id(lst))\n",
    "\n",
    "lst2 = list(range(10))\n",
    "print(lst2, id(lst2))\n",
    "\n",
    "lst.extend(lst2)\n",
    "\n",
    "print(lst, id(lst))\n"
   ]
  },
  {
   "cell_type": "markdown",
   "id": "7d9b8173",
   "metadata": {},
   "source": [
    "Расширение списка через **+**"
   ]
  },
  {
   "cell_type": "code",
   "execution_count": 5,
   "id": "f466eb8c",
   "metadata": {},
   "outputs": [
    {
     "name": "stdout",
     "output_type": "stream",
     "text": [
      "[0, 1, 2, 3, 4, 0, 1, 2, 3, 4, 5, 6, 7, 8, 9]\n"
     ]
    }
   ],
   "source": [
    "lst = list(range(5))\n",
    "lst2 = list(range(10))\n",
    "lst3 = lst + lst2\n",
    "\n",
    "print(lst3)\n"
   ]
  },
  {
   "cell_type": "markdown",
   "id": "bffebf86",
   "metadata": {},
   "source": [
    "**index(a)** – метод поиска элемента a; возвращает индекс первого вхождения элемента в заданном интервале\n",
    "\n",
    "**i = lst.index(a, b, c)**, где a – значение элемента, b – с какого индекса ищем,  c – до какого индекса ищем\n",
    "\n",
    "**i = lst.index(a, b)**, где a – значение элемента, b – с какого индекса ищем\n",
    "\n",
    "**i = lst.index(a)**, где a – значение элемента без конкретного диапазона \n"
   ]
  },
  {
   "cell_type": "markdown",
   "id": "6e2d1158",
   "metadata": {},
   "source": [
    "**insert(i, x)** – вставка элемента x в заданную позицию i"
   ]
  },
  {
   "cell_type": "code",
   "execution_count": 6,
   "id": "74d12e65",
   "metadata": {},
   "outputs": [
    {
     "name": "stdout",
     "output_type": "stream",
     "text": [
      "[1, 3, 5, 7, 9, 10]\n",
      "[1, 3, 22, 5, 7, 9, 10]\n"
     ]
    }
   ],
   "source": [
    "lst = [1, 3, 5, 7, 9, 10]\n",
    "print(lst)\n",
    "\n",
    "lst.insert(2, 22)\n",
    "print(lst)"
   ]
  },
  {
   "cell_type": "markdown",
   "id": "f59cb52c",
   "metadata": {},
   "source": [
    "**pop(i)** – извлечение i-го элемента"
   ]
  },
  {
   "cell_type": "code",
   "execution_count": 7,
   "id": "dca6d479",
   "metadata": {},
   "outputs": [
    {
     "name": "stdout",
     "output_type": "stream",
     "text": [
      "[1, 3, 5, 7, 9, 10]\n",
      "[1, 3, 7, 9, 10] 5\n"
     ]
    }
   ],
   "source": [
    "lst = [1, 3, 5, 7, 9, 10]\n",
    "print(lst)\n",
    "\n",
    "res = lst.pop(2)\n",
    "print(lst, res)"
   ]
  },
  {
   "cell_type": "markdown",
   "id": "62c2aac5",
   "metadata": {},
   "source": [
    "**remove(x)** – удаление первого встретившегося элемента по значению\n"
   ]
  },
  {
   "cell_type": "code",
   "execution_count": 8,
   "id": "9708c362",
   "metadata": {},
   "outputs": [
    {
     "name": "stdout",
     "output_type": "stream",
     "text": [
      "[1, 3, 5, 7, 9, 10]\n",
      "[1, 3, 7, 9, 10]\n"
     ]
    }
   ],
   "source": [
    "lst = [1, 3, 5, 7, 9, 10]\n",
    "print(lst)\n",
    "\n",
    "lst.remove(5)\n",
    "print(lst)"
   ]
  },
  {
   "cell_type": "markdown",
   "id": "b09890c8",
   "metadata": {},
   "source": [
    "lst - заданный список\n",
    "\n",
    "**lst.reverse()**  – инвертирование списка\n",
    "\n",
    "**lst.sort()** – сортировка по возрастанию\n",
    "\n",
    "**lst.sort(reverse = True)** – сортировка по убыванию\n",
    "\n",
    "**sorted(lst)** – сортирует любую коллекцию, создает отсортированную копию в отличии от sort()\n",
    "\n",
    "**lst * n** - конкатенация\n",
    "\n",
    "**min(lst)** – поиск минимума среди элементов списка\n",
    "\n",
    "**max(lst)** – поиск максимума среди элементов списка\n"
   ]
  },
  {
   "cell_type": "markdown",
   "id": "05b25435",
   "metadata": {},
   "source": [
    "**map(функция(), lst)** – применение функции() к каждому элементу списка lst\n"
   ]
  },
  {
   "cell_type": "code",
   "execution_count": 9,
   "id": "e4102fdb",
   "metadata": {},
   "outputs": [
    {
     "name": "stdout",
     "output_type": "stream",
     "text": [
      "['АНЯ', 'ЮЛЯ', 'ОЛЕГ', 'КАТЯ', 'ВАНЯ']\n"
     ]
    }
   ],
   "source": [
    "lst = [\"Аня\", \"Юля\", \"Олег\", \"Катя\", \"Ваня\"]\n",
    "lst2 = list(map(str.upper, lst))\n",
    "\n",
    "print(lst2)"
   ]
  },
  {
   "cell_type": "code",
   "execution_count": 10,
   "id": "4ea10e78",
   "metadata": {},
   "outputs": [
    {
     "name": "stdout",
     "output_type": "stream",
     "text": [
      "[2, 25, 36, 16]\n"
     ]
    }
   ],
   "source": [
    "lst = [2, 5, 6, 2]\n",
    "lst2 = [1, 2, 2, 4]\n",
    "\n",
    "lst3 = list(map(pow, lst, lst2))\n",
    "\n",
    "print(lst3)\n"
   ]
  },
  {
   "cell_type": "markdown",
   "id": "04e93716",
   "metadata": {},
   "source": [
    "**zip(lst)** – объединяет 2 списка, но не последовательным объединением, а попарным"
   ]
  },
  {
   "cell_type": "code",
   "execution_count": 11,
   "id": "fef0606b",
   "metadata": {},
   "outputs": [
    {
     "name": "stdout",
     "output_type": "stream",
     "text": [
      "Студент Аня получил на экзамене 5\n",
      "Студент Юля получил на экзамене 4\n"
     ]
    }
   ],
   "source": [
    "name = [\"Аня\", \"Юля\", \"Олег\", \"Петя\"]\n",
    "mark = [5, 4]\n",
    "\n",
    "for n, m in zip(name, mark):\n",
    "    print(f\"Студент {n} получил на экзамене {m}\")"
   ]
  },
  {
   "cell_type": "code",
   "execution_count": 12,
   "id": "0cfcac7a",
   "metadata": {},
   "outputs": [
    {
     "name": "stdout",
     "output_type": "stream",
     "text": [
      "5\n",
      "12\n",
      "13\n",
      "12\n"
     ]
    }
   ],
   "source": [
    "lst = [2, 5, 6, 2]\n",
    "lst2 = [1, 2, 2, 4]\n",
    "lst3 = [3, 2, 1, 4]\n",
    "\n",
    "for a, b, c in zip(lst, lst2, lst3):\n",
    "    print(a * b + c)"
   ]
  },
  {
   "cell_type": "markdown",
   "id": "85117623",
   "metadata": {},
   "source": [
    "# Кортежи (Tuples)"
   ]
  },
  {
   "cell_type": "markdown",
   "id": "15ef3bd2",
   "metadata": {},
   "source": [
    "неизменяемый, упорядоченный тип данных"
   ]
  },
  {
   "cell_type": "markdown",
   "id": "4b4cde98",
   "metadata": {},
   "source": [
    "## Создание кортежа"
   ]
  },
  {
   "cell_type": "markdown",
   "id": "f9f08d00",
   "metadata": {},
   "source": [
    "1. С помощью функции tuple()"
   ]
  },
  {
   "cell_type": "code",
   "execution_count": null,
   "id": "8a9c9587",
   "metadata": {},
   "outputs": [],
   "source": [
    "a = tuple()    #пустой кортеж\n",
    "print(a)\n",
    "\n",
    "a = tuple([1, 2, 3])\n",
    "print(a)\n",
    "\n",
    "a = tuple(\"hello\")\n",
    "print(a)"
   ]
  },
  {
   "cell_type": "markdown",
   "id": "717a4a37",
   "metadata": {},
   "source": [
    "2. С помощью оператора присваивания"
   ]
  },
  {
   "cell_type": "code",
   "execution_count": null,
   "id": "39866c67",
   "metadata": {},
   "outputs": [],
   "source": [
    "a = ()     #пустой кортеж\n",
    "print(a)\n",
    "\n",
    "\n",
    "a = (1, 2, 3)\n",
    "print(a)\n",
    "\n",
    "a = 1, 2, 3\n",
    "print(a, type(a))\n",
    "\n"
   ]
  },
  {
   "cell_type": "markdown",
   "id": "8d1d1701",
   "metadata": {},
   "source": [
    "Кортеж из единственного элемента создается при наличии «висячей» запятой:\n"
   ]
  },
  {
   "cell_type": "code",
   "execution_count": null,
   "id": "aa087868",
   "metadata": {},
   "outputs": [],
   "source": [
    "a = (\"one\",)\n",
    "print(a, type(a))\n",
    "\n",
    "a = (\"one\")\n",
    "print(a, type(a))\n",
    "\n",
    "a = 1,\n",
    "print(a, type(a))\n",
    "\n",
    "a = 1\n",
    "print(a, type(a))\n"
   ]
  },
  {
   "cell_type": "code",
   "execution_count": null,
   "id": "74f415e1",
   "metadata": {},
   "outputs": [],
   "source": [
    "tuple = 1, 2, 3\n",
    "\n",
    "print(tuple, type(tuple))\n",
    "\n",
    "a, b, r = tuple\n",
    "\n",
    "print(a, b, r)\n"
   ]
  },
  {
   "cell_type": "code",
   "execution_count": null,
   "id": "943a9e47",
   "metadata": {},
   "outputs": [],
   "source": [
    "tuple = 1, 2, 3, 4, 5, 6, 7\n",
    "\n",
    "a, b, r = tuple\n"
   ]
  },
  {
   "cell_type": "markdown",
   "id": "6f920245",
   "metadata": {},
   "source": [
    "**Распаковка кортежа (любой последовательности)**"
   ]
  },
  {
   "cell_type": "code",
   "execution_count": null,
   "id": "9723f487",
   "metadata": {},
   "outputs": [],
   "source": [
    "tuple = 1, 2, 3, 4, 5, 6, 7, 8, 9\n",
    "\n",
    "\n",
    "*a, b, r = tuple   \n",
    "\n",
    "print(f\"a = {a}, b = {b}, r = {r}\")"
   ]
  },
  {
   "cell_type": "code",
   "execution_count": null,
   "id": "81e065f4",
   "metadata": {},
   "outputs": [],
   "source": [
    "tuple = 1, 2, 3, 4, 5, 6, 7, 8, 9\n",
    "\n",
    "print(*tuple)"
   ]
  },
  {
   "cell_type": "code",
   "execution_count": null,
   "id": "9b994069",
   "metadata": {},
   "outputs": [],
   "source": [
    "*r, a, b = tuple   \n",
    "\n",
    "print(f\"a = {a}, b = {b}, r = {r}\")"
   ]
  },
  {
   "cell_type": "markdown",
   "id": "ffadf6c1",
   "metadata": {},
   "source": [
    "**Распечатка кортежа**"
   ]
  },
  {
   "cell_type": "code",
   "execution_count": null,
   "id": "f97cfb70",
   "metadata": {},
   "outputs": [],
   "source": [
    "print(tuple)\n",
    "\n",
    "print(tuple[0], tuple[1], tuple[2], tuple[3], tuple[4], tuple[5], tuple[6], tuple[7], tuple[8])\n",
    "\n",
    "print(*tuple)       #  * - поэлементная распаковка кортежа"
   ]
  },
  {
   "cell_type": "markdown",
   "id": "c03f4276",
   "metadata": {},
   "source": [
    "# Строки (Strings)"
   ]
  },
  {
   "cell_type": "markdown",
   "id": "c4e4b535",
   "metadata": {},
   "source": [
    "Неизменяемый упорядоченный тип данных"
   ]
  },
  {
   "cell_type": "markdown",
   "id": "6795c111",
   "metadata": {},
   "source": [
    "## Создание строки"
   ]
  },
  {
   "cell_type": "code",
   "execution_count": 18,
   "id": "9011b2c6",
   "metadata": {},
   "outputs": [
    {
     "name": "stdout",
     "output_type": "stream",
     "text": [
      "hello <class 'str'>\n",
      "hello <class 'str'>\n",
      "hel'lo' <class 'str'>\n"
     ]
    }
   ],
   "source": [
    "a = \"hello\"\n",
    "print(a, type(a))\n",
    "\n",
    "a = 'hello'\n",
    "print(a, type(a))\n",
    "\n",
    "a = \"hel'lo'\"\n",
    "print(a, type(a))"
   ]
  },
  {
   "cell_type": "markdown",
   "id": "6af911c3",
   "metadata": {},
   "source": [
    "## Операции для строк"
   ]
  },
  {
   "cell_type": "markdown",
   "id": "adb5ca84",
   "metadata": {},
   "source": [
    "1. Конкатенация"
   ]
  },
  {
   "cell_type": "code",
   "execution_count": 19,
   "id": "fd051131",
   "metadata": {},
   "outputs": [
    {
     "name": "stdout",
     "output_type": "stream",
     "text": [
      "abcdefgh\n"
     ]
    }
   ],
   "source": [
    "s1 = \"abcd\"\n",
    "s2 = \"efgh\"\n",
    "s3 = s1 + s2\n",
    "print(s3)"
   ]
  },
  {
   "cell_type": "markdown",
   "id": "ac05a5d5",
   "metadata": {},
   "source": [
    "2. Длина строки"
   ]
  },
  {
   "cell_type": "code",
   "execution_count": 20,
   "id": "8b944220",
   "metadata": {},
   "outputs": [
    {
     "name": "stdout",
     "output_type": "stream",
     "text": [
      "4\n"
     ]
    }
   ],
   "source": [
    "s1 = \"abcd\"\n",
    "n = len(s1)\n",
    "print(n)"
   ]
  },
  {
   "cell_type": "markdown",
   "id": "8611402d",
   "metadata": {},
   "source": [
    "3. Обращение по индексу"
   ]
  },
  {
   "cell_type": "code",
   "execution_count": 21,
   "id": "5017dfe3",
   "metadata": {},
   "outputs": [
    {
     "name": "stdout",
     "output_type": "stream",
     "text": [
      "s\n"
     ]
    }
   ],
   "source": [
    "s1 = \"test\"\n",
    "print(s1[2])"
   ]
  },
  {
   "cell_type": "markdown",
   "id": "db8ac0f7",
   "metadata": {},
   "source": [
    "4. Срезы"
   ]
  },
  {
   "cell_type": "code",
   "execution_count": 22,
   "id": "d0256b1e",
   "metadata": {},
   "outputs": [
    {
     "name": "stdout",
     "output_type": "stream",
     "text": [
      "dcba\n"
     ]
    }
   ],
   "source": [
    "s = \"abcd\"\n",
    "print(s[::-1])"
   ]
  },
  {
   "cell_type": "markdown",
   "id": "c7e2eb2a",
   "metadata": {},
   "source": [
    "**Подстрока** - фрагмент определенной строки"
   ]
  },
  {
   "cell_type": "code",
   "execution_count": 23,
   "id": "4b19b05c",
   "metadata": {},
   "outputs": [
    {
     "name": "stdout",
     "output_type": "stream",
     "text": [
      "True\n"
     ]
    }
   ],
   "source": [
    "print(\"cd\" in s)"
   ]
  },
  {
   "cell_type": "markdown",
   "id": "28743259",
   "metadata": {},
   "source": [
    "**Экранированные символы**"
   ]
  },
  {
   "attachments": {
    "%D1%8D%D0%BA%D1%80%20%D0%BF%D0%BE%D1%81%D0%BB%D0%B5%D0%B4%D0%BE%D0%B2%D0%B0%D1%82%D0%B5%D0%BB%D1%8C%D0%BD%D0%BE%D1%81%D1%82%D0%B8.png": {
     "image/png": "[encoded data removed]"
    }
   },
   "cell_type": "markdown",
   "id": "3b875821",
   "metadata": {},
   "source": [
    "![%D1%8D%D0%BA%D1%80%20%D0%BF%D0%BE%D1%81%D0%BB%D0%B5%D0%B4%D0%BE%D0%B2%D0%B0%D1%82%D0%B5%D0%BB%D1%8C%D0%BD%D0%BE%D1%81%D1%82%D0%B8.png](attachment:%D1%8D%D0%BA%D1%80%20%D0%BF%D0%BE%D1%81%D0%BB%D0%B5%D0%B4%D0%BE%D0%B2%D0%B0%D1%82%D0%B5%D0%BB%D1%8C%D0%BD%D0%BE%D1%81%D1%82%D0%B8.png)"
   ]
  },
  {
   "cell_type": "code",
   "execution_count": 26,
   "id": "00ca88ff",
   "metadata": {},
   "outputs": [
    {
     "name": "stdout",
     "output_type": "stream",
     "text": [
      "hello\r",
      "world\r",
      "hey\r",
      "guys\n"
     ]
    }
   ],
   "source": [
    "test = \"hello\\rworld\\rhey\\rguys\"\n",
    "\n",
    "print(test)"
   ]
  },
  {
   "cell_type": "markdown",
   "id": "c4b3a138",
   "metadata": {},
   "source": [
    "**Проверка вхождения подстроки в строку** с помощью **in**"
   ]
  },
  {
   "cell_type": "code",
   "execution_count": null,
   "id": "fe34bad1",
   "metadata": {},
   "outputs": [],
   "source": [
    "str = \"greenapple2378\"\n",
    "\n",
    "print(\"een\" in str)"
   ]
  },
  {
   "cell_type": "markdown",
   "id": "69a89a8f",
   "metadata": {},
   "source": [
    "**Определение кода символа**"
   ]
  },
  {
   "cell_type": "code",
   "execution_count": 28,
   "id": "7d1f2357",
   "metadata": {},
   "outputs": [
    {
     "name": "stdout",
     "output_type": "stream",
     "text": [
      "98\n"
     ]
    }
   ],
   "source": [
    "print(ord(\"b\"))"
   ]
  },
  {
   "cell_type": "markdown",
   "id": "9384c0fb",
   "metadata": {},
   "source": [
    "**find** - поиск индекса первого вхождения подстроки в строку\n",
    "\n",
    "**find(x)**       **x** - символ, который ищем\n",
    "\n",
    "**find(x, y)**    **x** - символ, который ищем; ищем с индекса **y** до конца\n",
    "\n",
    "**find(x, y, z)**   **x** - символ, который ищем; ищем с индекса **y** до индекса **z**\n",
    "\n",
    "-1, если не найдено"
   ]
  },
  {
   "cell_type": "code",
   "execution_count": 32,
   "id": "39ee0ced",
   "metadata": {},
   "outputs": [
    {
     "name": "stdout",
     "output_type": "stream",
     "text": [
      "1\n"
     ]
    }
   ],
   "source": [
    "s = \"test\" * 3\n",
    "\n",
    "print(s.find(\"e\"))"
   ]
  },
  {
   "cell_type": "markdown",
   "id": "bfaec255",
   "metadata": {},
   "source": [
    "**rfind** Поиск последнего вхождения подстроки в строку\n",
    "\n",
    "-1, если не найдено"
   ]
  },
  {
   "cell_type": "code",
   "execution_count": 33,
   "id": "8b7a4770",
   "metadata": {},
   "outputs": [
    {
     "name": "stdout",
     "output_type": "stream",
     "text": [
      "testtesttest 11\n"
     ]
    }
   ],
   "source": [
    "s = \"test\" * 3\n",
    "\n",
    "\n",
    "print(s, s.rfind(\"t\"))"
   ]
  },
  {
   "cell_type": "markdown",
   "id": "cd467ebf",
   "metadata": {},
   "source": [
    "**Замена по шаблону replace()** - ищем подстроку в строке и заменяем на указанное"
   ]
  },
  {
   "cell_type": "code",
   "execution_count": 38,
   "id": "f87321d5",
   "metadata": {},
   "outputs": [
    {
     "name": "stdout",
     "output_type": "stream",
     "text": [
      "testtesttest 2758386797424\n",
      "tes55es55est\n",
      "t00ttesttest\n"
     ]
    }
   ],
   "source": [
    "s = \"test\" * 3\n",
    "\n",
    "print(s, id(s))\n",
    "print(s.replace(\"tt\", \"55\"))    # сделает все замены\n",
    "print(s.replace(\"es\", \"00\", 1)) # 3 параметр-количество замен"
   ]
  },
  {
   "cell_type": "markdown",
   "id": "1e2e82b3",
   "metadata": {},
   "source": [
    "**Count()** - подсчитает общее число вхождений в тексте, так и вхождения в указанном диапазоне (3 пар-ра)"
   ]
  },
  {
   "cell_type": "markdown",
   "id": "c3002fce",
   "metadata": {},
   "source": [
    "Разбиение строки **split()** - превращает в список с элементам строки\n",
    "\n",
    "по умолчание в качестве разделителя пробел\n"
   ]
  },
  {
   "cell_type": "code",
   "execution_count": 40,
   "id": "5eadd25f",
   "metadata": {},
   "outputs": [
    {
     "name": "stdout",
     "output_type": "stream",
     "text": [
      "ВВедите строку с клавиатуры: a b c d e\n",
      "['a', 'b', 'c', 'd', 'e']\n"
     ]
    }
   ],
   "source": [
    "s = input(\"ВВедите строку с клавиатуры: \").split()\n",
    "\n",
    "print(s)"
   ]
  },
  {
   "cell_type": "markdown",
   "id": "eb5fe38e",
   "metadata": {},
   "source": [
    "**Проверка класса символа**\n",
    "\n",
    "Возвращает True/False"
   ]
  },
  {
   "cell_type": "code",
   "execution_count": 52,
   "id": "3d112293",
   "metadata": {},
   "outputs": [
    {
     "name": "stdout",
     "output_type": "stream",
     "text": [
      "False\n",
      "False\n",
      "True\n",
      "True\n",
      "False\n"
     ]
    }
   ],
   "source": [
    "s = \"76L780\"\n",
    "\n",
    "print(s.isdigit())  #состоит из цифр\n",
    "print(s.isalpha())  #состоит из букв\n",
    "print(s.isalnum())  #состоит из цифр и букв\n",
    "print(s.isupper())  #состоит из символов верхнего регистра\n",
    "print(s.islower())  #состоит из символов нижнего регистра"
   ]
  },
  {
   "cell_type": "markdown",
   "id": "94726dde",
   "metadata": {},
   "source": [
    "Преобразование строки к верхнему регистру **upper**"
   ]
  },
  {
   "cell_type": "code",
   "execution_count": null,
   "id": "adc2a7b0",
   "metadata": {},
   "outputs": [],
   "source": [
    "s = 'apple'\n",
    "print(s.upper())"
   ]
  },
  {
   "cell_type": "markdown",
   "id": "24bc7ffa",
   "metadata": {},
   "source": [
    "Преобразование строки к нижнему/верхнему регистру **lower/upper**"
   ]
  },
  {
   "cell_type": "code",
   "execution_count": 54,
   "id": "d7c2beaf",
   "metadata": {},
   "outputs": [
    {
     "name": "stdout",
     "output_type": "stream",
     "text": [
      "apple\n",
      "APPLE\n"
     ]
    }
   ],
   "source": [
    "s = 'APPle'\n",
    "print(s.lower())\n",
    "print(s.upper())"
   ]
  },
  {
   "cell_type": "markdown",
   "id": "f93fab80",
   "metadata": {},
   "source": [
    "Метод **join(x)** позволяет из списка **x** строк получить строку\n"
   ]
  },
  {
   "cell_type": "code",
   "execution_count": 50,
   "id": "aed540e3",
   "metadata": {},
   "outputs": [
    {
     "name": "stdout",
     "output_type": "stream",
     "text": [
      "Вася-Петр-Оля-Аня\n"
     ]
    }
   ],
   "source": [
    "S = [\"Вася\", \"Петр\", \"Оля\", \"Аня\" ]\n",
    "\n",
    "print(\"-\".join(S))"
   ]
  },
  {
   "cell_type": "markdown",
   "id": "4a9caa34",
   "metadata": {},
   "source": [
    "Удаление пробелов\n",
    "\n",
    "**string.strip()**   удаляет все символы пробелов и переносов строк в начале и в конце строки\n",
    "\n",
    "**string.strip(x)**   удаляет cимвол **x** в начале и в конце строки\n",
    "\n",
    "string.rstrip()     удаляет символы справа\n",
    "\n",
    "string.lstrip()     удаляет символы слева\n"
   ]
  },
  {
   "cell_type": "code",
   "execution_count": 49,
   "id": "9256bd88",
   "metadata": {},
   "outputs": [
    {
     "name": "stdout",
     "output_type": "stream",
     "text": [
      "    Hello world !     \n",
      "Hello world !\n",
      "Hello world !     \n"
     ]
    }
   ],
   "source": [
    "s = \"    Hello world !     \"\n",
    "print(s)\n",
    "print(s.strip())\n",
    "print(s.lstrip())"
   ]
  },
  {
   "cell_type": "code",
   "execution_count": 43,
   "id": "d41af689",
   "metadata": {},
   "outputs": [],
   "source": [
    "tuple = 1, 2, 3, 4\n",
    "list = [1, 2, 3, 4]"
   ]
  },
  {
   "cell_type": "code",
   "execution_count": 44,
   "id": "e028cb2c",
   "metadata": {},
   "outputs": [
    {
     "data": {
      "text/plain": [
       "56"
      ]
     },
     "execution_count": 44,
     "metadata": {},
     "output_type": "execute_result"
    }
   ],
   "source": [
    "tuple.__sizeof__()"
   ]
  },
  {
   "cell_type": "code",
   "execution_count": null,
   "id": "4f916d75",
   "metadata": {},
   "outputs": [],
   "source": [
    "list.__sizeof__()"
   ]
  },
  {
   "cell_type": "markdown",
   "id": "fdbacccd",
   "metadata": {},
   "source": [
    "**Распаковка коллекции**"
   ]
  },
  {
   "cell_type": "code",
   "execution_count": 61,
   "id": "74180b07",
   "metadata": {},
   "outputs": [
    {
     "name": "stdout",
     "output_type": "stream",
     "text": [
      "[3, 4, 5, 6, 7]\n",
      "3 4 5 6 7\n"
     ]
    }
   ],
   "source": [
    "lst = [3, 4, 5, 6, 7]\n",
    "\n",
    "print(lst)\n",
    "print(*lst)"
   ]
  },
  {
   "cell_type": "code",
   "execution_count": 75,
   "id": "e5c64387",
   "metadata": {},
   "outputs": [
    {
     "name": "stdout",
     "output_type": "stream",
     "text": [
      "1 2 3\n",
      "1 2 [3, 4]\n"
     ]
    }
   ],
   "source": [
    "lst = [1, 2, 3, 4]\n",
    "a, b, c, d = lst\n",
    "print(a, b, c)\n",
    "a, b, *c = lst\n",
    "print(a, b, c)"
   ]
  },
  {
   "cell_type": "markdown",
   "id": "2b3738ac",
   "metadata": {},
   "source": [
    "## Итератор и итерируемые объекты"
   ]
  },
  {
   "cell_type": "markdown",
   "id": "b250e29b",
   "metadata": {},
   "source": [
    "С помощью итератора можно пройтись по всем элементам итерируемого объекта (коллекции) один раз от начала до конца"
   ]
  },
  {
   "cell_type": "code",
   "execution_count": null,
   "id": "d9f2e110",
   "metadata": {},
   "outputs": [],
   "source": [
    "list = [2, 4, 6, 8, 10]\n",
    "it = iter(list)\n",
    "\n",
    "next(it)"
   ]
  },
  {
   "cell_type": "code",
   "execution_count": null,
   "id": "748e0b49",
   "metadata": {},
   "outputs": [],
   "source": [
    "next(it)"
   ]
  },
  {
   "cell_type": "code",
   "execution_count": null,
   "id": "13dcb39e",
   "metadata": {},
   "outputs": [],
   "source": [
    "next(it)"
   ]
  },
  {
   "cell_type": "code",
   "execution_count": null,
   "id": "fe3b4532",
   "metadata": {},
   "outputs": [],
   "source": [
    "next(it)"
   ]
  },
  {
   "cell_type": "code",
   "execution_count": null,
   "id": "5004300c",
   "metadata": {},
   "outputs": [],
   "source": [
    "next(it)"
   ]
  },
  {
   "cell_type": "code",
   "execution_count": null,
   "id": "c4024214",
   "metadata": {},
   "outputs": [],
   "source": [
    "next(it)"
   ]
  },
  {
   "cell_type": "code",
   "execution_count": null,
   "id": "ef3061d8",
   "metadata": {},
   "outputs": [],
   "source": [
    "str = \"python\"\n",
    "\n",
    "it = iter(str)\n",
    "\n",
    "next(it)"
   ]
  },
  {
   "cell_type": "code",
   "execution_count": null,
   "id": "547bb528",
   "metadata": {},
   "outputs": [],
   "source": [
    "next(it)"
   ]
  },
  {
   "cell_type": "code",
   "execution_count": null,
   "id": "04c5940a",
   "metadata": {},
   "outputs": [],
   "source": [
    "next(it)"
   ]
  },
  {
   "cell_type": "code",
   "execution_count": null,
   "id": "06f64831",
   "metadata": {},
   "outputs": [],
   "source": [
    "tuple = 1, 2, 3, 4, 5\n",
    "\n",
    "it = iter(tuple)\n",
    "\n",
    "next(it)"
   ]
  },
  {
   "cell_type": "markdown",
   "id": "215a1c11",
   "metadata": {},
   "source": [
    "Конструкция **for ... in...** позволяет перебирать элементы последовательностей, благодаря механизму итераторов"
   ]
  },
  {
   "cell_type": "code",
   "execution_count": null,
   "id": "b88b6f5d",
   "metadata": {},
   "outputs": [],
   "source": [
    "for i in [1, 3, 5, 7]:\n",
    "    print(i)"
   ]
  },
  {
   "cell_type": "code",
   "execution_count": null,
   "id": "8d31a90d",
   "metadata": {},
   "outputs": [],
   "source": [
    "for i in 5:\n",
    "    print(i)"
   ]
  },
  {
   "cell_type": "code",
   "execution_count": null,
   "id": "a7cf9ffe",
   "metadata": {},
   "outputs": [],
   "source": []
  },
  {
   "cell_type": "markdown",
   "id": "80e4df39",
   "metadata": {},
   "source": [
    "**Задание:** Заменить в списке двухзначные числа нулями"
   ]
  },
  {
   "cell_type": "code",
   "execution_count": null,
   "id": "27004d98",
   "metadata": {},
   "outputs": [],
   "source": [
    "digs = [5, 31, 100, 0, 16.8, -15, 2.6]\n",
    "\n",
    "for i in range(len(digs)):\n",
    "    if type(digs[i]) == int:\n",
    "        if abs(digs[i]) >= 10 and abs(digs[i]) < 100:\n",
    "            digs[i] = 0\n",
    "        \n",
    "print(digs)"
   ]
  },
  {
   "cell_type": "markdown",
   "id": "36ccf521",
   "metadata": {},
   "source": [
    "## Функция enumerate()"
   ]
  },
  {
   "cell_type": "markdown",
   "id": "0ca027c3",
   "metadata": {},
   "source": [
    "**index, item = enumerate(объект)**\n",
    "\n",
    "Принимает итератор и возвращает объект перечисления.\n",
    "\n",
    "\n",
    "Обычно используется в циклах **for ... in**, чтобы получить последовательность кортежей (index, item), \n",
    "\n",
    "где значения индексов начинают отсчитывать от 0 или от значения start"
   ]
  },
  {
   "cell_type": "code",
   "execution_count": null,
   "id": "a9b22369",
   "metadata": {},
   "outputs": [],
   "source": [
    "digs = [5, 31, 100, 0, 16.8, -15, 2.6]\n",
    "\n",
    "for i, a in enumerate(digs):\n",
    "    if type(a) == int:\n",
    "        if abs(a) >= 10 and abs(a) < 100:\n",
    "            digs[i] = 0\n",
    "        \n",
    "print(digs)"
   ]
  },
  {
   "cell_type": "markdown",
   "id": "0bd82e94",
   "metadata": {},
   "source": [
    "**Пример.** Вводится строка с номером телефона в формате: \n",
    "\n",
    "+7(912)123-45-67\n",
    "\n",
    "Необходимо преобразовать ее в список lst (посимвольно, то есть, элементами списка будут являться отдельные символы строки). Затем, удалить первый '+', число 7 заменить на 8 и убрать дефисы. Отобразить полученный список в виде:\n",
    "8(912)1234567"
   ]
  },
  {
   "cell_type": "code",
   "execution_count": null,
   "id": "b68ebe1d",
   "metadata": {},
   "outputs": [],
   "source": [
    "phone_number = list(input())\n",
    "\n",
    "phone_number.remove(\"+\")\n",
    "phone_number[0] = \"8\"\n",
    "\n",
    "for i in phone_number:\n",
    "    if i == \"-\":\n",
    "        phone_number.remove(i) \n",
    "\n",
    "print(phone_number)\n",
    "print(\"\".join(phone_number))"
   ]
  },
  {
   "cell_type": "code",
   "execution_count": null,
   "id": "21c38bd5",
   "metadata": {},
   "outputs": [],
   "source": [
    "a = list(map(int, input().split()))\n",
    "\n",
    "print(a)"
   ]
  }
 ],
 "metadata": {
  "kernelspec": {
   "display_name": "Python 3 (ipykernel)",
   "language": "python",
   "name": "python3"
  },
  "language_info": {
   "codemirror_mode": {
    "name": "ipython",
    "version": 3
   },
   "file_extension": ".py",
   "mimetype": "text/x-python",
   "name": "python",
   "nbconvert_exporter": "python",
   "pygments_lexer": "ipython3",
   "version": "3.9.7"
  }
 },
 "nbformat": 4,
 "nbformat_minor": 5
}
