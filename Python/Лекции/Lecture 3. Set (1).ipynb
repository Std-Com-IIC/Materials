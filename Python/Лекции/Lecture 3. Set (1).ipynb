{
 "cells": [
  {
   "cell_type": "markdown",
   "id": "566d7f41",
   "metadata": {},
   "source": [
    "# Множества (Sets, изменяемый неупорядоченный тип уникальных  данных)"
   ]
  },
  {
   "cell_type": "markdown",
   "id": "8bff78ea",
   "metadata": {},
   "source": [
    "# Создание"
   ]
  },
  {
   "cell_type": "markdown",
   "id": "c7dba1c3",
   "metadata": {},
   "source": [
    "### С помощью функции set()"
   ]
  },
  {
   "cell_type": "code",
   "execution_count": null,
   "id": "f079575d",
   "metadata": {},
   "outputs": [],
   "source": [
    "a = set()\n",
    "print(a)"
   ]
  },
  {
   "cell_type": "code",
   "execution_count": null,
   "id": "9729d971",
   "metadata": {},
   "outputs": [],
   "source": [
    "a = set([\"a\", \"b\", \"c\"])\n",
    "print(a)"
   ]
  },
  {
   "cell_type": "code",
   "execution_count": null,
   "id": "e647071f",
   "metadata": {},
   "outputs": [],
   "source": [
    "a = set(\"a b c\")\n",
    "print(a)"
   ]
  },
  {
   "cell_type": "markdown",
   "id": "ec6a415b",
   "metadata": {},
   "source": [
    "### С помощью присваивания"
   ]
  },
  {
   "cell_type": "code",
   "execution_count": null,
   "id": "7d3ac371",
   "metadata": {},
   "outputs": [],
   "source": [
    "a = {\"a\", \"b\", \"c\"}\n",
    "print(a)"
   ]
  },
  {
   "cell_type": "code",
   "execution_count": null,
   "id": "8353b13a",
   "metadata": {},
   "outputs": [],
   "source": [
    "a = {}    # так будет создаваться словарь, не множество!\n",
    "print(a, type(a))"
   ]
  },
  {
   "cell_type": "markdown",
   "id": "c52d4ca6",
   "metadata": {},
   "source": [
    "### С помощью генератора множеств"
   ]
  },
  {
   "cell_type": "code",
   "execution_count": null,
   "id": "95338443",
   "metadata": {},
   "outputs": [],
   "source": [
    "a = {chr(i) for i in range(100, 110)}\n",
    "print(a)\n",
    "print(type(a))"
   ]
  },
  {
   "cell_type": "markdown",
   "id": "27075486",
   "metadata": {},
   "source": [
    "# Методы и операции"
   ]
  },
  {
   "cell_type": "markdown",
   "id": "d8723b72",
   "metadata": {},
   "source": [
    "### Объединение"
   ]
  },
  {
   "cell_type": "code",
   "execution_count": null,
   "id": "c3060e20",
   "metadata": {},
   "outputs": [],
   "source": [
    "a = {\"a\", \"b\", \"c\"}\n",
    "b = {\"d\", \"e\", \"c\"}\n",
    "\n",
    "c = a | b               # создается новое множество c\n",
    "print(c)\n",
    "\n",
    "d = a.union(b)         # создается новое множество d\n",
    "print(d)"
   ]
  },
  {
   "cell_type": "code",
   "execution_count": null,
   "id": "e92606f7",
   "metadata": {},
   "outputs": [],
   "source": [
    "a = {\"a\", \"b\", \"c\"}\n",
    "b = {\"d\", \"e\", \"c\"}\n",
    "\n",
    "print(id(a))\n",
    "a |= b  # изменяется существующее множество a\n",
    "\n",
    "print(a, id(a))"
   ]
  },
  {
   "cell_type": "code",
   "execution_count": null,
   "id": "7db16ba0",
   "metadata": {},
   "outputs": [],
   "source": [
    "a = {\"a\", \"b\", \"c\"}\n",
    "b = {\"d\", \"e\", \"c\"}\n",
    "a.update(b)                 # изменяется существующее множество a\n",
    "print(a)"
   ]
  },
  {
   "cell_type": "markdown",
   "id": "d8aaf919",
   "metadata": {},
   "source": [
    "## Пересечение"
   ]
  },
  {
   "cell_type": "code",
   "execution_count": null,
   "id": "5772eab3",
   "metadata": {},
   "outputs": [],
   "source": [
    "a = {\"a\", \"b\", \"c\"}\n",
    "b = {\"d\", \"e\", \"c\"}\n",
    "print(id(a), id(b))\n",
    "\n",
    "c = a & b\n",
    "print(c)\n",
    "\n",
    "\n",
    "d = a.intersection(b)\n",
    "print(d, id(d))"
   ]
  },
  {
   "cell_type": "code",
   "execution_count": null,
   "id": "5f476acc",
   "metadata": {},
   "outputs": [],
   "source": [
    "a = {\"a\", \"b\", \"c\"}\n",
    "b = {\"d\", \"e\", \"c\"}\n",
    "\n",
    "a &= b\n",
    "print(a)"
   ]
  },
  {
   "cell_type": "code",
   "execution_count": null,
   "id": "5b03ac41",
   "metadata": {},
   "outputs": [],
   "source": [
    "a = {\"a\", \"b\", \"c\"}\n",
    "b = {\"d\", \"e\", \"c\"}\n",
    "\n",
    "a.intersection_update(b)\n",
    "print(a)"
   ]
  },
  {
   "cell_type": "markdown",
   "id": "7123e2db",
   "metadata": {},
   "source": [
    "### Разность (вычитаются только те элементы, которые являются одинаковыми для двух множеств)"
   ]
  },
  {
   "cell_type": "code",
   "execution_count": null,
   "id": "c4544cae",
   "metadata": {},
   "outputs": [],
   "source": [
    "a = {\"a\", \"b\", \"c\"}\n",
    "b = {\"d\", \"e\", \"c\"}\n",
    "\n",
    "c = a - b                   # создается новое множество c\n",
    "print(c)\n",
    "\n",
    "d = a.difference(b)         # создается новое множество d\n",
    "print(d)"
   ]
  },
  {
   "cell_type": "code",
   "execution_count": null,
   "id": "35af8745",
   "metadata": {},
   "outputs": [],
   "source": [
    "a = {\"a\", \"b\", \"c\"}\n",
    "b = {\"d\", \"e\", \"c\"}\n",
    "\n",
    "a -= b                       # изменяется существующее множество a\n",
    "print(a)"
   ]
  },
  {
   "cell_type": "code",
   "execution_count": null,
   "id": "17d219cb",
   "metadata": {},
   "outputs": [],
   "source": [
    "a = {\"a\", \"b\", \"c\"}\n",
    "b = {\"d\", \"e\", \"c\"}\n",
    "\n",
    "a.difference_update(b)       # изменяется существующее множество a\n",
    "print(a)"
   ]
  },
  {
   "cell_type": "markdown",
   "id": "1a042c01",
   "metadata": {},
   "source": [
    "### Симметрическая разность ( в результирующее множество включаются элементы, которые не являются общими)"
   ]
  },
  {
   "cell_type": "code",
   "execution_count": null,
   "id": "7794b49d",
   "metadata": {},
   "outputs": [],
   "source": [
    "a = {\"a\", \"b\", \"c\"}\n",
    "b = {\"d\", \"e\", \"c\"}\n",
    "\n",
    "c = a ^ b                         # создается новое множество c\n",
    "print(c)\n",
    "\n",
    "d = a.symmetric_difference(b)     # создается новое множество d\n",
    "print(d)"
   ]
  },
  {
   "cell_type": "code",
   "execution_count": null,
   "id": "abf5e66a",
   "metadata": {},
   "outputs": [],
   "source": [
    "a = {\"a\", \"b\", \"c\"}\n",
    "b = {\"d\", \"e\", \"c\"}\n",
    "\n",
    "a ^= b                             # изменяется существующее множество a\n",
    "print(a)"
   ]
  },
  {
   "cell_type": "code",
   "execution_count": null,
   "id": "3d11ca32",
   "metadata": {},
   "outputs": [],
   "source": [
    "a = {\"a\", \"b\", \"c\"}\n",
    "b = {\"d\", \"e\", \"c\"}\n",
    "\n",
    "a.symmetric_difference_update(b)    # изменяется существующее множество a\n",
    " \n",
    "print(a)"
   ]
  },
  {
   "cell_type": "markdown",
   "id": "f6ada7a9",
   "metadata": {},
   "source": [
    "### Проверка на подмножество/супермножество "
   ]
  },
  {
   "cell_type": "code",
   "execution_count": null,
   "id": "341df07c",
   "metadata": {},
   "outputs": [],
   "source": [
    "a = {\"a\", \"b\", \"c\"}\n",
    "b = {\"b\", \"c\"}\n",
    "\n",
    "print(b <= a)      # является ли a подмножеством b\n",
    "\n",
    "print(b.issubset(a))    \n",
    "\n",
    "print(a < b)\n",
    "\n",
    "print(a.issuperset(b))"
   ]
  },
  {
   "cell_type": "markdown",
   "id": "d634df06",
   "metadata": {},
   "source": [
    "### Эквивалентность множеств"
   ]
  },
  {
   "cell_type": "code",
   "execution_count": null,
   "id": "5997c894",
   "metadata": {},
   "outputs": [],
   "source": [
    "a = {\"a\", \"b\", \"c\"}\n",
    "b = {\"d\", \"e\", \"c\"}\n",
    "\n",
    "print(a == b)"
   ]
  },
  {
   "cell_type": "markdown",
   "id": "00ed9197",
   "metadata": {},
   "source": [
    "### Проверка, что в двух множествах нет общих элементов"
   ]
  },
  {
   "cell_type": "code",
   "execution_count": null,
   "id": "33c39a03",
   "metadata": {},
   "outputs": [],
   "source": [
    "a = {\"l\", \"b\", \"a\"}\n",
    "b = {\"a\", \"d\"}\n",
    "\n",
    "print(a.isdisjoint(b))"
   ]
  },
  {
   "cell_type": "markdown",
   "id": "8ca938fb",
   "metadata": {},
   "source": [
    "### Копирование"
   ]
  },
  {
   "cell_type": "code",
   "execution_count": null,
   "id": "b468dcae",
   "metadata": {},
   "outputs": [],
   "source": [
    "a = {\"a\", \"b\", \"c\"}\n",
    "\n",
    "b = a.copy()\n",
    "\n",
    "print(a)\n",
    "print(b)"
   ]
  },
  {
   "cell_type": "markdown",
   "id": "c05d72f8",
   "metadata": {},
   "source": [
    "### Длина (мощность)"
   ]
  },
  {
   "cell_type": "code",
   "execution_count": null,
   "id": "aecaa1da",
   "metadata": {},
   "outputs": [],
   "source": [
    "a = {\"a\", \"b\", \"c\"}\n",
    "print(len(a))"
   ]
  },
  {
   "cell_type": "markdown",
   "id": "6b58a741",
   "metadata": {},
   "source": [
    "### Добавление элемента"
   ]
  },
  {
   "cell_type": "code",
   "execution_count": null,
   "id": "0b7e8743",
   "metadata": {},
   "outputs": [],
   "source": [
    "a = {\"a\", \"b\", \"c\"}\n",
    "a.add(\"t\")\n",
    "\n",
    "print(a)"
   ]
  },
  {
   "cell_type": "markdown",
   "id": "1ae80f48",
   "metadata": {},
   "source": [
    "### Проверка вхождения элемента"
   ]
  },
  {
   "cell_type": "code",
   "execution_count": null,
   "id": "16395471",
   "metadata": {},
   "outputs": [],
   "source": [
    "a = {\"a\", \"b\", \"c\"}\n",
    "\n",
    "print(\"c\" in a)\n",
    "\n",
    "print(\"g\" in a)"
   ]
  },
  {
   "cell_type": "markdown",
   "id": "36595020",
   "metadata": {},
   "source": [
    "### Удаление элемента (генерирует исключение, если удаляемого элемента нет в множестве)"
   ]
  },
  {
   "cell_type": "code",
   "execution_count": null,
   "id": "fca320ca",
   "metadata": {},
   "outputs": [],
   "source": [
    "a = {\"a\", \"b\", \"c\"}\n",
    "a.remove(\"d\")        # генерирует исключение, если удаляемого элемента нет в множестве\n",
    "\n",
    "print(a)"
   ]
  },
  {
   "cell_type": "code",
   "execution_count": null,
   "id": "3d834cfe",
   "metadata": {},
   "outputs": [],
   "source": [
    "a = {\"a\", \"b\", \"c\"}\n",
    "a.discard(\"d\")\n",
    "\n",
    "print(a)"
   ]
  },
  {
   "cell_type": "markdown",
   "id": "63d50eba",
   "metadata": {},
   "source": [
    "### Искючение произвольного элемента"
   ]
  },
  {
   "cell_type": "code",
   "execution_count": null,
   "id": "8089da05",
   "metadata": {},
   "outputs": [],
   "source": [
    "a = {\"a\", \"b\", \"c\"}\n",
    "\n",
    "x = a.pop()\n",
    "\n",
    "print(x)\n",
    "print(a)\n",
    "  "
   ]
  },
  {
   "cell_type": "code",
   "execution_count": null,
   "id": "06038e05",
   "metadata": {},
   "outputs": [],
   "source": [
    "a = {\"a\", \"b\", \"c\"}\n",
    "\n",
    "while len(a) > 0:\n",
    "    x = a.pop()\n",
    "    print(x, a)"
   ]
  },
  {
   "cell_type": "markdown",
   "id": "f5c9f064",
   "metadata": {},
   "source": [
    "### Очистка"
   ]
  },
  {
   "cell_type": "code",
   "execution_count": null,
   "id": "0e0b3730",
   "metadata": {},
   "outputs": [],
   "source": [
    "a = {\"a\", \"b\", \"c\"}\n",
    "a.clear()\n",
    "print(a)"
   ]
  },
  {
   "cell_type": "markdown",
   "id": "0a98ff4a",
   "metadata": {},
   "source": [
    "# Пример"
   ]
  },
  {
   "cell_type": "markdown",
   "id": "1897559e",
   "metadata": {},
   "source": [
    "Пусть female_first_name - множество с женскими именами,\n",
    "\n",
    "male_first_name - множество с мужскими именами,\n",
    "\n",
    "first_name - множество с общимии именами,\n",
    "\n",
    "female_last_name - множество с женскими фамилиями,\n",
    "\n",
    "male_last_name - множество с мужскими фамилиями,\n",
    "\n",
    "last_name - множество с несклоняющимися фамилиями.\n",
    "\n",
    "Вывести всевозможные сочетания имен и фамилий.\n",
    "\n"
   ]
  },
  {
   "cell_type": "code",
   "execution_count": 46,
   "id": "ab738713",
   "metadata": {},
   "outputs": [],
   "source": [
    "female_first_name = {\"Аня\", \"Катя\", \"Маша\"}\n",
    "male_first_name = {\"Петр\", \"Дима\", \"Иван\"}\n",
    "first_name = {\"Саша\", \"Женя\", \"Валя\"}\n",
    "female_last_name = {\"Иванова\", \"Петрова\", \"Краснова\"}\n",
    "male_last_name = {\"Иванов\", \"Петров\", \"Краснов\"}\n",
    "last_name = {\"Пономаренко\", \"Голобородько\", \"Красно\"}\n"
   ]
  },
  {
   "cell_type": "code",
   "execution_count": 38,
   "id": "760fd31a",
   "metadata": {},
   "outputs": [
    {
     "name": "stdout",
     "output_type": "stream",
     "text": [
      "Аня Красно\n",
      "Аня Петрова\n",
      "Аня Пономаренко\n",
      "Аня Голобородько\n",
      "Аня Краснова\n",
      "Аня Иванова\n",
      "Катя Красно\n",
      "Катя Петрова\n",
      "Катя Пономаренко\n",
      "Катя Голобородько\n",
      "Катя Краснова\n",
      "Катя Иванова\n",
      "Маша Красно\n",
      "Маша Петрова\n",
      "Маша Пономаренко\n",
      "Маша Голобородько\n",
      "Маша Краснова\n",
      "Маша Иванова\n"
     ]
    }
   ],
   "source": [
    "# Сочетания с женскими именами\n",
    "\n",
    "for ffn in female_first_name:\n",
    "    for fln in female_last_name | last_name:\n",
    "        print(ffn, fln)"
   ]
  },
  {
   "cell_type": "markdown",
   "id": "57b64950",
   "metadata": {},
   "source": [
    "**Задание 2:** Вводится список оценок студента - его ответов у доски по предмету \"Информатика\" в виде чисел от 2 до 5 в одну строку через пробел. Если студент имеет хотя бы одну двойку, то он не допускается до экзамена. Определить на основе введенного списка, допущен ли студент. Если допущен, то вывести слово ДОПУЩЕН, иначе - НЕ ДОПУЩЕН. При реализации задачи используйте множество для определения наличия двойки."
   ]
  },
  {
   "cell_type": "code",
   "execution_count": null,
   "id": "ecf0a4e8",
   "metadata": {},
   "outputs": [],
   "source": [
    "marks = set(input(\"Введите оценки студента: \").split())            \n",
    "            \n",
    "print(marks, \"не допущен\" if \"2\" in marks else \"допущен\" )"
   ]
  },
  {
   "cell_type": "code",
   "execution_count": null,
   "id": "4bad2485",
   "metadata": {},
   "outputs": [],
   "source": [
    "mark = input()\n",
    "mark_list = mark.split()\n",
    "mark_list = map(int, mark)\n",
    "mark_set = set(mark_list)\n",
    "\n",
    "print(\"НЕ ДОПУЩЕН\" if 2 in mark_set else \"ДОПУЩЕН\")\n"
   ]
  },
  {
   "cell_type": "code",
   "execution_count": null,
   "id": "590d9344",
   "metadata": {},
   "outputs": [],
   "source": [
    "mark = set(map(int, input().split()))\n",
    "\n",
    "print(\"НЕ ДОПУЩЕН\" if 2 in mark_set else \"ДОПУЩЕН\")"
   ]
  },
  {
   "cell_type": "markdown",
   "id": "eda17a90",
   "metadata": {},
   "source": [
    "Вводятся два списка городов каждый с новой строки (в строке названия через пробел), которые объехал Сергей в 1-й и 2-й годы своего путешествия по России. Требуется определить, включал ли его маршрут во 2-й год все города 1-го года путешествия? Если это так, то вывести ДА, иначе - НЕТ."
   ]
  },
  {
   "cell_type": "code",
   "execution_count": null,
   "id": "a691f86d",
   "metadata": {},
   "outputs": [],
   "source": [
    "first_year = set(input().split())\n",
    "second_year = set(input().split())\n",
    "\n",
    "print(\"ДА\" if first_year.issubset(second_year) else \"НЕТ\")"
   ]
  },
  {
   "cell_type": "markdown",
   "id": "3deb1d3d",
   "metadata": {},
   "source": [
    "**Задание 4:** Вводится текст в одну строку, слова разделены пробелом. Необходимо подсчитать число уникальных слов (без учета регистра) в этом тексте. Результат (число уникальных слов) вывести на экран."
   ]
  },
  {
   "cell_type": "code",
   "execution_count": null,
   "id": "dcfdb5e8",
   "metadata": {},
   "outputs": [],
   "source": [
    "city = list(input().split())\n",
    "city2 = set(map(str.lower, city))\n",
    "\n",
    "print(len(city2))"
   ]
  }
 ],
 "metadata": {
  "kernelspec": {
   "display_name": "Python 3 (ipykernel)",
   "language": "python",
   "name": "python3"
  },
  "language_info": {
   "codemirror_mode": {
    "name": "ipython",
    "version": 3
   },
   "file_extension": ".py",
   "mimetype": "text/x-python",
   "name": "python",
   "nbconvert_exporter": "python",
   "pygments_lexer": "ipython3",
   "version": "3.9.7"
  }
 },
 "nbformat": 4,
 "nbformat_minor": 5
}
